{
 "cells": [
  {
   "cell_type": "markdown",
   "metadata": {},
   "source": [
    "# SQL IN PYTHON FOR DATA SCIENCE"
   ]
  },
  {
   "cell_type": "code",
   "execution_count": 8,
   "metadata": {},
   "outputs": [],
   "source": [
    "# sqlite3 for SQL connection\n",
    "import sqlite3 \n",
    "\n",
    "# Database connection\n",
    "connection = sqlite3.connect(\"PythonCheck.db\") \n",
    "\n",
    "# cursor \n",
    "crsr = connection.cursor() \n",
    "\n",
    "# Command to drop table\n",
    "sql_command =\"\"\"DROP TABLE IF EXISTS Scores\"\"\"\n",
    "crsr.execute(sql_command);\n",
    "\n",
    "# Create a Table in SQL\n",
    "sql_command = \"\"\"CREATE TABLE Scores ( \n",
    "student_Id INTEGER PRIMARY KEY, \n",
    "student_name TEXT,  \n",
    "gender CHAR(1), \n",
    "scores integer);\"\"\"\n",
    "\n",
    "# execute the statement \n",
    "crsr.execute(sql_command) \n",
    "\n",
    "# Insert Data 1\n",
    "cmd1 = \"\"\"INSERT INTO Scores VALUES (1,\"Anish\", \"M\", \"89\");\"\"\"\n",
    "crsr.execute(cmd1) \n",
    "\n",
    "# Insert Data 2\n",
    "cmd2 = \"\"\"INSERT INTO Scores VALUES (2, \"Smith\", \"M\", \"78\");\"\"\"\n",
    "crsr.execute(cmd2) \n",
    "\n",
    "# To save the changes in the files. Never skip this. \n",
    "# If we skip this, nothing will be saved in the database. \n",
    "connection.commit() \n",
    "\n",
    "# close the connection \n",
    "connection.close() \n"
   ]
  },
  {
   "cell_type": "code",
   "execution_count": 11,
   "metadata": {},
   "outputs": [
    {
     "name": "stdout",
     "output_type": "stream",
     "text": [
      "(1, 'Anish', 'M', 89)\n",
      "(2, 'Smith', 'M', 78)\n"
     ]
    }
   ],
   "source": [
    "# Python code to demonstrate SQL to fetch data. \n",
    "\n",
    "# importing the module \n",
    "import sqlite3 \n",
    "\n",
    "# connect withe the PythonCheck database \n",
    "connection = sqlite3.connect(\"PythonCheck.db\") \n",
    "\n",
    "# cursor object \n",
    "crsr = connection.cursor() \n",
    "\n",
    "# execute the command to fetch all the data from the table emp \n",
    "crsr.execute(\"SELECT * FROM Scores\") \n",
    "\n",
    "# store all the fetched data in the ans variable \n",
    "ans= crsr.fetchall() \n",
    "\n",
    "# loop to print all the data \n",
    "for i in ans: \n",
    "\tprint(i )\n"
   ]
  },
  {
   "cell_type": "code",
   "execution_count": null,
   "metadata": {},
   "outputs": [],
   "source": []
  }
 ],
 "metadata": {
  "kernelspec": {
   "display_name": "Python 3",
   "language": "python",
   "name": "python3"
  },
  "language_info": {
   "codemirror_mode": {
    "name": "ipython",
    "version": 3
   },
   "file_extension": ".py",
   "mimetype": "text/x-python",
   "name": "python",
   "nbconvert_exporter": "python",
   "pygments_lexer": "ipython3",
   "version": "3.7.3"
  }
 },
 "nbformat": 4,
 "nbformat_minor": 2
}
